{
 "cells": [
  {
   "cell_type": "markdown",
   "id": "8af5cfae",
   "metadata": {},
   "source": [
    "# Energy Time Series Forecasting"
   ]
  },
  {
   "cell_type": "markdown",
   "id": "a371ea82",
   "metadata": {},
   "source": [
    "## Introduction"
   ]
  },
  {
   "cell_type": "markdown",
   "id": "a247e039",
   "metadata": {},
   "source": [
    "Prédiction de la consommation d’énergie du business groupe dans Alesund à partir des données historiques."
   ]
  },
  {
   "cell_type": "markdown",
   "id": "7b71b14a",
   "metadata": {},
   "source": [
    "## Import des bibliothèques"
   ]
  },
  {
   "cell_type": "code",
   "execution_count": 3,
   "id": "91795637",
   "metadata": {},
   "outputs": [],
   "source": [
    "import torch\n",
    "import torch.nn as nn\n",
    "import torch.optim as optim\n",
    "import numpy as np\n",
    "import pandas as pd\n",
    "import matplotlib.pyplot as plt\n",
    "from sklearn.preprocessing import MinMaxScaler\n",
    "from torch.utils.data import DataLoader, TensorDataset"
   ]
  },
  {
   "cell_type": "markdown",
   "id": "069bcf0d",
   "metadata": {},
   "source": [
    "## Chargement des données "
   ]
  },
  {
   "cell_type": "code",
   "execution_count": 4,
   "id": "1ebac7f8",
   "metadata": {},
   "outputs": [
    {
     "data": {
      "text/html": [
       "<div>\n",
       "<style scoped>\n",
       "    .dataframe tbody tr th:only-of-type {\n",
       "        vertical-align: middle;\n",
       "    }\n",
       "\n",
       "    .dataframe tbody tr th {\n",
       "        vertical-align: top;\n",
       "    }\n",
       "\n",
       "    .dataframe thead th {\n",
       "        text-align: right;\n",
       "    }\n",
       "</style>\n",
       "<table border=\"1\" class=\"dataframe\">\n",
       "  <thead>\n",
       "    <tr style=\"text-align: right;\">\n",
       "      <th></th>\n",
       "      <th>Consumption_group_Ålesund</th>\n",
       "      <th>VOLUME_KWH</th>\n",
       "      <th>METERINGPOINT_COUNT</th>\n",
       "      <th>Date</th>\n",
       "      <th>wind_speed</th>\n",
       "      <th>t2m_C</th>\n",
       "      <th>surface_pressure</th>\n",
       "    </tr>\n",
       "  </thead>\n",
       "  <tbody>\n",
       "    <tr>\n",
       "      <th>0</th>\n",
       "      <td>private</td>\n",
       "      <td>57961.562</td>\n",
       "      <td>27060</td>\n",
       "      <td>2021-01-01 00:00:00</td>\n",
       "      <td>2.798005</td>\n",
       "      <td>1.68923</td>\n",
       "      <td>98874.56</td>\n",
       "    </tr>\n",
       "    <tr>\n",
       "      <th>1</th>\n",
       "      <td>industry</td>\n",
       "      <td>13558.855</td>\n",
       "      <td>1029</td>\n",
       "      <td>2021-01-01 00:00:00</td>\n",
       "      <td>2.798005</td>\n",
       "      <td>1.68923</td>\n",
       "      <td>98874.56</td>\n",
       "    </tr>\n",
       "    <tr>\n",
       "      <th>2</th>\n",
       "      <td>business</td>\n",
       "      <td>30582.870</td>\n",
       "      <td>3784</td>\n",
       "      <td>2021-01-01 00:00:00</td>\n",
       "      <td>2.798005</td>\n",
       "      <td>1.68923</td>\n",
       "      <td>98874.56</td>\n",
       "    </tr>\n",
       "    <tr>\n",
       "      <th>3</th>\n",
       "      <td>private</td>\n",
       "      <td>56258.645</td>\n",
       "      <td>27060</td>\n",
       "      <td>2021-01-01 01:00:00</td>\n",
       "      <td>2.630726</td>\n",
       "      <td>1.32168</td>\n",
       "      <td>98905.06</td>\n",
       "    </tr>\n",
       "    <tr>\n",
       "      <th>4</th>\n",
       "      <td>industry</td>\n",
       "      <td>13649.810</td>\n",
       "      <td>1029</td>\n",
       "      <td>2021-01-01 01:00:00</td>\n",
       "      <td>2.630726</td>\n",
       "      <td>1.32168</td>\n",
       "      <td>98905.06</td>\n",
       "    </tr>\n",
       "  </tbody>\n",
       "</table>\n",
       "</div>"
      ],
      "text/plain": [
       "  Consumption_group_Ålesund  VOLUME_KWH  METERINGPOINT_COUNT  \\\n",
       "0                   private   57961.562                27060   \n",
       "1                  industry   13558.855                 1029   \n",
       "2                  business   30582.870                 3784   \n",
       "3                   private   56258.645                27060   \n",
       "4                  industry   13649.810                 1029   \n",
       "\n",
       "                  Date  wind_speed    t2m_C  surface_pressure  \n",
       "0  2021-01-01 00:00:00    2.798005  1.68923          98874.56  \n",
       "1  2021-01-01 00:00:00    2.798005  1.68923          98874.56  \n",
       "2  2021-01-01 00:00:00    2.798005  1.68923          98874.56  \n",
       "3  2021-01-01 01:00:00    2.630726  1.32168          98905.06  \n",
       "4  2021-01-01 01:00:00    2.630726  1.32168          98905.06  "
      ]
     },
     "execution_count": 4,
     "metadata": {},
     "output_type": "execute_result"
    }
   ],
   "source": [
    "df_alesund_data = pd.read_csv(\"meteo_consump_alesund_data.csv\")  \n",
    "df_alesund_data.head()"
   ]
  },
  {
   "cell_type": "markdown",
   "id": "c4c9c837",
   "metadata": {},
   "source": [
    "## Filtrage des données de business groupe "
   ]
  },
  {
   "cell_type": "code",
   "execution_count": 7,
   "id": "6896b06c",
   "metadata": {},
   "outputs": [
    {
     "data": {
      "text/html": [
       "<div>\n",
       "<style scoped>\n",
       "    .dataframe tbody tr th:only-of-type {\n",
       "        vertical-align: middle;\n",
       "    }\n",
       "\n",
       "    .dataframe tbody tr th {\n",
       "        vertical-align: top;\n",
       "    }\n",
       "\n",
       "    .dataframe thead th {\n",
       "        text-align: right;\n",
       "    }\n",
       "</style>\n",
       "<table border=\"1\" class=\"dataframe\">\n",
       "  <thead>\n",
       "    <tr style=\"text-align: right;\">\n",
       "      <th></th>\n",
       "      <th>VOLUME_KWH</th>\n",
       "      <th>METERINGPOINT_COUNT</th>\n",
       "      <th>Date</th>\n",
       "      <th>wind_speed</th>\n",
       "      <th>t2m_C</th>\n",
       "      <th>surface_pressure</th>\n",
       "    </tr>\n",
       "  </thead>\n",
       "  <tbody>\n",
       "    <tr>\n",
       "      <th>0</th>\n",
       "      <td>30582.870</td>\n",
       "      <td>3784</td>\n",
       "      <td>2021-01-01 00:00:00</td>\n",
       "      <td>2.798005</td>\n",
       "      <td>1.68923</td>\n",
       "      <td>98874.560</td>\n",
       "    </tr>\n",
       "    <tr>\n",
       "      <th>1</th>\n",
       "      <td>30352.254</td>\n",
       "      <td>3784</td>\n",
       "      <td>2021-01-01 01:00:00</td>\n",
       "      <td>2.630726</td>\n",
       "      <td>1.32168</td>\n",
       "      <td>98905.060</td>\n",
       "    </tr>\n",
       "    <tr>\n",
       "      <th>2</th>\n",
       "      <td>30774.594</td>\n",
       "      <td>3784</td>\n",
       "      <td>2021-01-01 02:00:00</td>\n",
       "      <td>2.387332</td>\n",
       "      <td>1.01553</td>\n",
       "      <td>98930.625</td>\n",
       "    </tr>\n",
       "    <tr>\n",
       "      <th>3</th>\n",
       "      <td>30846.584</td>\n",
       "      <td>3784</td>\n",
       "      <td>2021-01-01 03:00:00</td>\n",
       "      <td>1.984651</td>\n",
       "      <td>0.77847</td>\n",
       "      <td>98928.000</td>\n",
       "    </tr>\n",
       "    <tr>\n",
       "      <th>4</th>\n",
       "      <td>31745.682</td>\n",
       "      <td>3784</td>\n",
       "      <td>2021-01-01 04:00:00</td>\n",
       "      <td>1.515596</td>\n",
       "      <td>0.66543</td>\n",
       "      <td>98949.560</td>\n",
       "    </tr>\n",
       "  </tbody>\n",
       "</table>\n",
       "</div>"
      ],
      "text/plain": [
       "   VOLUME_KWH  METERINGPOINT_COUNT                 Date  wind_speed    t2m_C  \\\n",
       "0   30582.870                 3784  2021-01-01 00:00:00    2.798005  1.68923   \n",
       "1   30352.254                 3784  2021-01-01 01:00:00    2.630726  1.32168   \n",
       "2   30774.594                 3784  2021-01-01 02:00:00    2.387332  1.01553   \n",
       "3   30846.584                 3784  2021-01-01 03:00:00    1.984651  0.77847   \n",
       "4   31745.682                 3784  2021-01-01 04:00:00    1.515596  0.66543   \n",
       "\n",
       "   surface_pressure  \n",
       "0         98874.560  \n",
       "1         98905.060  \n",
       "2         98930.625  \n",
       "3         98928.000  \n",
       "4         98949.560  "
      ]
     },
     "execution_count": 7,
     "metadata": {},
     "output_type": "execute_result"
    }
   ],
   "source": [
    "# Filtrer pour ne garder que les lignes où la colonne est égale à \"business\"\n",
    "df_business_consumption= df_alesund_data[df_alesund_data['Consumption_group_Ålesund'] == 'business']\n",
    "\n",
    "# Supprimer la colonne après le filtrage\n",
    "df_business_consumption = df_business_consumption.drop(columns=['Consumption_group_Ålesund'])\n",
    "df_business_consumption=df_business_consumption.reset_index(drop=True)\n",
    "df_business_consumption.head()"
   ]
  }
 ],
 "metadata": {
  "kernelspec": {
   "display_name": "project_venv",
   "language": "python",
   "name": "python3"
  },
  "language_info": {
   "codemirror_mode": {
    "name": "ipython",
    "version": 3
   },
   "file_extension": ".py",
   "mimetype": "text/x-python",
   "name": "python",
   "nbconvert_exporter": "python",
   "pygments_lexer": "ipython3",
   "version": "3.10.0"
  }
 },
 "nbformat": 4,
 "nbformat_minor": 5
}
