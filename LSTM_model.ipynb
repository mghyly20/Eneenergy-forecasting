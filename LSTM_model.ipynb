{
 "cells": [
  {
   "cell_type": "markdown",
   "id": "8af5cfae",
   "metadata": {},
   "source": [
    "# Energy Time Series Forecasting"
   ]
  },
  {
   "cell_type": "markdown",
   "id": "a371ea82",
   "metadata": {},
   "source": [
    "## Introduction"
   ]
  },
  {
   "cell_type": "markdown",
   "id": "a247e039",
   "metadata": {},
   "source": [
    "Prédiction de la consommation d’énergie du business groupe dans Alesund à partir des données historiques."
   ]
  },
  {
   "cell_type": "markdown",
   "id": "7b71b14a",
   "metadata": {},
   "source": [
    "## Import des bibliothèques"
   ]
  }
 ],
 "metadata": {
  "kernelspec": {
   "display_name": "stage_env",
   "language": "python",
   "name": "python3"
  },
  "language_info": {
   "name": "python",
   "version": "3.10.0"
  }
 },
 "nbformat": 4,
 "nbformat_minor": 5
}
